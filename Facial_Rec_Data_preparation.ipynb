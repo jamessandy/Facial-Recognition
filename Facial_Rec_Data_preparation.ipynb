{
  "nbformat": 4,
  "nbformat_minor": 0,
  "metadata": {
    "colab": {
      "name": "Facial Rec/ Data preparation.ipynb",
      "version": "0.3.2",
      "provenance": []
    },
    "kernelspec": {
      "name": "python3",
      "display_name": "Python 3"
    }
  },
  "cells": [
    {
      "cell_type": "code",
      "metadata": {
        "id": "JlgHJ23ckNFH",
        "colab_type": "code",
        "colab": {}
      },
      "source": [
        "import pandas as pd\n",
        "import scipy.sparse as sparse\n",
        "import numpy as np\n",
        "from scipy.sparse.linalg import spsolve"
      ],
      "execution_count": 0,
      "outputs": []
    },
    {
      "cell_type": "code",
      "metadata": {
        "id": "Fx_Ge3HVkhur",
        "colab_type": "code",
        "colab": {}
      },
      "source": [
        "retail_data = pd.read_excel('./DataSets/online-retail-data-set-from-uci-ml-repo/Online Retail.xlsx') # This may take a couple minutes"
      ],
      "execution_count": 0,
      "outputs": []
    },
    {
      "cell_type": "code",
      "metadata": {
        "id": "ZdapQhKNknEO",
        "colab_type": "code",
        "colab": {}
      },
      "source": [
        "retail_data.head()"
      ],
      "execution_count": 0,
      "outputs": []
    },
    {
      "cell_type": "code",
      "metadata": {
        "id": "Kz6FfBA5ksTc",
        "colab_type": "code",
        "colab": {}
      },
      "source": [
        "retail_data.info()"
      ],
      "execution_count": 0,
      "outputs": []
    },
    {
      "cell_type": "code",
      "metadata": {
        "id": "NXtTEGWlk5xd",
        "colab_type": "code",
        "colab": {}
      },
      "source": [
        "cleaned_retail.info()"
      ],
      "execution_count": 0,
      "outputs": []
    },
    {
      "cell_type": "code",
      "metadata": {
        "id": "X4m4hVhfk86p",
        "colab_type": "code",
        "colab": {}
      },
      "source": [
        "item_lookup = cleaned_retail[['StockCode', 'Description']].drop_duplicates() # Only get unique item/description pairs\n",
        "item_lookup['StockCode'] = item_lookup.StockCode.astype(str) # Encode as strings for future lookup ease\n"
      ],
      "execution_count": 0,
      "outputs": []
    },
    {
      "cell_type": "code",
      "metadata": {
        "id": "THXD-XTClCGr",
        "colab_type": "code",
        "colab": {}
      },
      "source": [
        "#Save table to csv\n",
        "\n",
        "import os\n",
        "path='E:\\\\python\\\\retail_rec_sys\\\\cvs_data_file'\n",
        "item_lookup.to_csv(os.path.join(path,r'item_lookup.csv'),index=False,header=True,\n",
        "                   columns=['StockCode','Description'])\n",
        "\n",
        "\n",
        "print('Saved to \\n',item_lookup.dtypes)"
      ],
      "execution_count": 0,
      "outputs": []
    },
    {
      "cell_type": "code",
      "metadata": {
        "id": "DY0YwuE6lGaZ",
        "colab_type": "code",
        "colab": {}
      },
      "source": [
        "df = pd.read_csv('cvs_data_file/item_lookup.csv', header = 0)\n",
        "df.head()"
      ],
      "execution_count": 0,
      "outputs": []
    },
    {
      "cell_type": "code",
      "metadata": {
        "id": "0Ruq6opslJiR",
        "colab_type": "code",
        "colab": {}
      },
      "source": [
        "cleaned_retail['CustomerID'] = cleaned_retail.CustomerID.astype(int) # Convert to int for customer ID\n",
        "cleaned_retail = cleaned_retail[['StockCode', 'Quantity', 'CustomerID']] # Get rid of unnecessary info\n",
        "grouped_cleaned = cleaned_retail.groupby(['CustomerID', 'StockCode']).sum().reset_index() # Group together\n",
        "grouped_cleaned.Quantity.loc[grouped_cleaned.Quantity == 0] = 1 # Replace a sum of zero purchases with a one to\n",
        "# indicate purchased\n",
        "grouped_purchased = grouped_cleaned.query('Quantity > 0') # Only get customers where purchase totals were positive"
      ],
      "execution_count": 0,
      "outputs": []
    },
    {
      "cell_type": "code",
      "metadata": {
        "id": "g8VmzF3ilOjR",
        "colab_type": "code",
        "colab": {}
      },
      "source": [
        "import os\n",
        "path='E:\\\\python\\\\retail_rec_sys\\\\cvs_data_file'\n",
        "grouped_purchased.to_csv(os.path.join(path,r'online-retail.csv'),index=False,header=True,\n",
        "                   columns=['CustomerID','StockCode','Quantity'])\n",
        "\n",
        "print('Saved to',grouped_purchased.dtypes)\n"
      ],
      "execution_count": 0,
      "outputs": []
    }
  ]
}