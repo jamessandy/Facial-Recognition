{
  "nbformat": 4,
  "nbformat_minor": 0,
  "metadata": {
    "colab": {
      "name": "Facial Rec/Prediction.ipynb",
      "version": "0.3.2",
      "provenance": []
    },
    "kernelspec": {
      "name": "python3",
      "display_name": "Python 3"
    }
  },
  "cells": [
    {
      "cell_type": "code",
      "metadata": {
        "id": "MhqQBkqOHii2",
        "colab_type": "code",
        "colab": {}
      },
      "source": [
        "import pandas as pd\n",
        "import scipy.sparse as sparse\n",
        "import numpy as np\n",
        "from scipy.sparse.linalg import spsolve"
      ],
      "execution_count": 0,
      "outputs": []
    },
    {
      "cell_type": "code",
      "metadata": {
        "id": "6NYsNp9kKgbZ",
        "colab_type": "code",
        "colab": {}
      },
      "source": [
        "grouped_purchased = pd.read_csv('cvs_data_file/online-retail.csv', header = 0)\n",
        "grouped_purchased.head()"
      ],
      "execution_count": 0,
      "outputs": []
    },
    {
      "cell_type": "code",
      "metadata": {
        "id": "fvTh9WiWKk1y",
        "colab_type": "code",
        "colab": {}
      },
      "source": [
        "customers = list(np.sort(grouped_purchased.CustomerID.unique())) # Get our unique customers\n",
        "products = list(grouped_purchased.StockCode.unique()) # Get our unique products that were purchased\n",
        "quantity = list(grouped_purchased.Quantity) # All of our purchases\n",
        "\n",
        "rows = grouped_purchased.CustomerID.astype('category', categories = customers).cat.codes \n",
        "# Get the associated row indices\n",
        "cols = grouped_purchased.StockCode.astype('category', categories = products).cat.codes \n",
        "# Get the associated column indices\n",
        "purchases_sparse = sparse.csr_matrix((quantity, (rows, cols)), shape=(len(customers), len(products)))"
      ],
      "execution_count": 0,
      "outputs": []
    },
    {
      "cell_type": "code",
      "metadata": {
        "id": "QIU88BdkKoYe",
        "colab_type": "code",
        "colab": {}
      },
      "source": [
        "print(purchases_sparse.A)"
      ],
      "execution_count": 0,
      "outputs": []
    },
    {
      "cell_type": "code",
      "metadata": {
        "id": "VQ_lJrMPKsRT",
        "colab_type": "code",
        "colab": {}
      },
      "source": [
        "import random"
      ],
      "execution_count": 0,
      "outputs": []
    },
    {
      "cell_type": "code",
      "metadata": {
        "id": "VSEAAjvJKwWn",
        "colab_type": "code",
        "colab": {}
      },
      "source": [
        "def make_train(ratings, pct_test = 0.2):\n",
        "    test_set = ratings.copy() # Make a copy of the original set to be the test set. \n",
        "    test_set[test_set != 0] = 1 # Store the test set as a binary preference matrix\n",
        "    training_set = ratings.copy() # Make a copy of the original data we can alter as our training set. \n",
        "    nonzero_inds = training_set.nonzero() # Find the indices in the ratings data where an interaction exists\n",
        "    nonzero_pairs = list(zip(nonzero_inds[0], nonzero_inds[1])) # Zip these pairs together of user,item index into list\n",
        "    random.seed(0) # Set the random seed to zero for reproducibility\n",
        "    num_samples = int(np.ceil(pct_test*len(nonzero_pairs))) # Round the number of samples needed to the nearest integer\n",
        "    samples = random.sample(nonzero_pairs, num_samples) # Sample a random number of user-item pairs without replacement\n",
        "    user_inds = [index[0] for index in samples] # Get the user row indices\n",
        "    item_inds = [index[1] for index in samples] # Get the item column indices\n",
        "    training_set[user_inds, item_inds] = 0 # Assign all of the randomly chosen user-item pairs to zero\n",
        "    training_set.eliminate_zeros() # Get rid of zeros in sparse array storage after update to save space\n",
        "    return training_set, test_set, list(set(user_inds)) # Output the unique list of user rows that were altered"
      ],
      "execution_count": 0,
      "outputs": []
    },
    {
      "cell_type": "code",
      "metadata": {
        "id": "NGHwdjQJK0tb",
        "colab_type": "code",
        "colab": {}
      },
      "source": [
        "product_train, product_test, product_users_altered = make_train(purchases_sparse, pct_test = 0.2)\n"
      ],
      "execution_count": 0,
      "outputs": []
    },
    {
      "cell_type": "code",
      "metadata": {
        "id": "f-G0mLKgK1f0",
        "colab_type": "code",
        "colab": {}
      },
      "source": [
        "item_lookup = pd.read_csv('cvs_data_file/item_lookup.csv', header = 0)\n",
        "item_lookup.head()"
      ],
      "execution_count": 0,
      "outputs": []
    },
    {
      "cell_type": "code",
      "metadata": {
        "id": "ZFq7B2nVK5OB",
        "colab_type": "code",
        "colab": {}
      },
      "source": [
        "def get_items_purchased(customer_id, mf_train, customers_list, products_list, item_lookup):\n",
        "    cust_ind = np.where(customers_list == customer_id)[0][0] # Returns the index row of our customer id\n",
        "    purchased_ind = mf_train[cust_ind,:].nonzero()[1] # Get column indices of purchased items\n",
        "    prod_codes = products_list[purchased_ind] # Get the stock codes for our purchased items\n",
        "    return item_lookup.loc[item_lookup.StockCode.isin(prod_codes)]"
      ],
      "execution_count": 0,
      "outputs": []
    },
    {
      "cell_type": "code",
      "metadata": {
        "id": "YPZnWktwK9rY",
        "colab_type": "code",
        "colab": {}
      },
      "source": [
        "import pickle\n",
        "\n",
        "with open('saved_model','rb') as f:\n",
        "            saved_model=pickle.load(f)\n",
        "            model=saved_model['model']"
      ],
      "execution_count": 0,
      "outputs": []
    },
    {
      "cell_type": "code",
      "metadata": {
        "id": "UlSQUtN7LC2J",
        "colab_type": "code",
        "colab": {}
      },
      "source": [
        "# item TO item recommendation\n",
        "from sklearn.metrics.pairwise import cosine_similarity\n",
        "\n",
        "def display_item_to_items_recommendations(model,item_id):\n",
        "\n",
        "    products_arr = np.array(products) \n",
        "    \n",
        "#     print(\"products_arr\",products_arr,str(item_id))\n",
        "    item_id = np.where(products_arr == item_id)[0][0]\n",
        "    print(item_id)\n",
        "  \n",
        "    return item_lookup['Description'][cosine_similarity(\n",
        "            model.item_embeddings)[item_id].argsort()][-5:][::-1]\n",
        "\n",
        "\n",
        "display_item_to_items_recommendations(model, str('85123A'))\n"
      ],
      "execution_count": 0,
      "outputs": []
    },
    {
      "cell_type": "code",
      "metadata": {
        "id": "mywP6Wf4LIaN",
        "colab_type": "code",
        "colab": {}
      },
      "source": [
        "def display_recommended_items(model, data, user_ids):\n",
        "    customers_arr = np.array(customers)\n",
        "    products_arr = np.array(products) \n",
        "    print(\"customers_arr\",customers_arr)\n",
        "    user_id = np.where(customers_arr == user_ids)[0][0]\n",
        "#     print(user_ids,user_id)\n",
        "    \n",
        "    n_users, n_items = data.shape\n",
        "#     known_positives = get_items_purchased(user_ids, product_train, customers_arr, products_arr, item_lookup)\n",
        "    known_positives = item_lookup['Description'][data.tocsr()[user_id].indices]\n",
        "    known_positives_df = pd.DataFrame(data=known_positives)\n",
        "    print(known_positives_df,'\\n','######################################')            \n",
        "    \n",
        "    \n",
        "    scores = model.predict(user_id, np.arange(n_items))\n",
        "\n",
        "#     print([np.argsort(-scores)])\n",
        "    \n",
        "    top_items = item_lookup['Description'][np.argsort(-scores)]\n",
        "    print(top_items)\n",
        "    \n",
        "#     StockCode_id = str(item_lookup['StockCode'][purchases_sparse.tocsr()[user_id].indices][0])\n",
        "#     print(\"StockCode_id\",StockCode_id)\n",
        "    \n",
        "#     print('\\n@@@@@@@@@@@@@@@@@@@@@@@@@@@@@@@@@@@@@@@@@@\\n',display_item_to_items_recommendations(model, StockCode_id))\n",
        "            \n",
        "\n",
        "display_recommended_items(model, product_train, 18282)"
      ],
      "execution_count": 0,
      "outputs": []
    }
  ]
}